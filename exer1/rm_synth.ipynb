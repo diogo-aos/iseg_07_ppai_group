{
 "cells": [
  {
   "cell_type": "markdown",
   "metadata": {
    "application/vnd.databricks.v1+cell": {
     "inputWidgets": {},
     "nuid": "ec353179-3038-4da5-8d09-64f4f0034382",
     "showTitle": false,
     "title": ""
    }
   },
   "source": [
    "### Setup"
   ]
  },
  {
   "cell_type": "code",
   "execution_count": 2,
   "metadata": {},
   "outputs": [],
   "source": [
    "import datetime\n",
    "import os\n"
   ]
  },
  {
   "cell_type": "code",
   "execution_count": 3,
   "metadata": {
    "application/vnd.databricks.v1+cell": {
     "inputWidgets": {},
     "nuid": "a59c7f1a-987f-4ba6-bc09-13de0b76d5d9",
     "showTitle": false,
     "title": ""
    }
   },
   "outputs": [
    {
     "name": "stderr",
     "output_type": "stream",
     "text": [
      "/home/ciafa/mnt_point_3/dasilva/venv/lib/python3.8/site-packages/tqdm/auto.py:22: TqdmWarning: IProgress not found. Please update jupyter and ipywidgets. See https://ipywidgets.readthedocs.io/en/stable/user_install.html\n",
      "  from .autonotebook import tqdm as notebook_tqdm\n"
     ]
    }
   ],
   "source": [
    "import torch\n",
    "\n",
    "from torch.utils.data import DataLoader, Subset\n",
    "from torchvision import datasets\n",
    "import torchvision.transforms as transforms\n",
    "from torchvision.utils import save_image\n",
    "\n",
    "import matplotlib.pyplot as plt\n",
    "from torchvision.utils import make_grid\n",
    "\n"
   ]
  },
  {
   "cell_type": "markdown",
   "metadata": {
    "application/vnd.databricks.v1+cell": {
     "inputWidgets": {},
     "nuid": "19b5a357-15e6-4963-bc54-0a72261bc8a5",
     "showTitle": false,
     "title": ""
    }
   },
   "source": [
    "### Dataset"
   ]
  },
  {
   "cell_type": "code",
   "execution_count": 4,
   "metadata": {},
   "outputs": [],
   "source": [
    "# MODEL variables\n",
    "BATCH_SIZE = 4\n",
    "\n",
    "# INPUT variables\n",
    "data_dir = os.path.join(\"data\", \"Alzheimer_s Dataset\", \"train/\")\n",
    "SRC_IMG_HEIGHT, SRC_IMG_WIDTH = 208, 176\n",
    "\n",
    "# SYNTH variables\n",
    "N_TO_GENERATE = 50\n",
    "SYNTHETIC_BASE_DIR = 'data/synth'\n",
    "CLASSES = ['MildDemented', 'ModerateDemented', 'NonDemented', 'VeryMildDemented']\n",
    "CLASS_TO_GENERATE = CLASSES[0]"
   ]
  },
  {
   "cell_type": "code",
   "execution_count": 5,
   "metadata": {},
   "outputs": [],
   "source": [
    "RESIZE = (SRC_IMG_HEIGHT, SRC_IMG_WIDTH)\n",
    "RESIZE = None\n",
    "#RESIZE = 256, 256"
   ]
  },
  {
   "cell_type": "code",
   "execution_count": 6,
   "metadata": {},
   "outputs": [
    {
     "name": "stdout",
     "output_type": "stream",
     "text": [
      "[ToTensor(), Normalize(mean=(0.5, 0.5, 0.5), std=(0.5, 0.5, 0.5))]\n"
     ]
    }
   ],
   "source": [
    "rm_transforms = []\n",
    "#rm_transforms += [transforms.Grayscale()]\n",
    "\n",
    "if RESIZE is not None:\n",
    "    rm_transforms += [transforms.Resize(RESIZE)]\n",
    "rm_transforms += [transforms.ToTensor()]\n",
    "rm_transforms += [transforms.Normalize((0.5, 0.5, 0.5), (0.5, 0.5, 0.5))]\n",
    "print(rm_transforms)\n",
    "\n",
    "rm_dataset = datasets.ImageFolder(root=data_dir,\n",
    "                                 transform=transforms.Compose(rm_transforms))"
   ]
  },
  {
   "cell_type": "code",
   "execution_count": 7,
   "metadata": {},
   "outputs": [
    {
     "data": {
      "text/plain": [
       "['MildDemented', 'ModerateDemented', 'NonDemented', 'VeryMildDemented']"
      ]
     },
     "execution_count": 7,
     "metadata": {},
     "output_type": "execute_result"
    }
   ],
   "source": [
    "list(rm_dataset.class_to_idx.keys())"
   ]
  },
  {
   "cell_type": "code",
   "execution_count": 8,
   "metadata": {},
   "outputs": [
    {
     "name": "stdout",
     "output_type": "stream",
     "text": [
      "1792 samples from class VeryMildDemented\n"
     ]
    }
   ],
   "source": [
    "indices = [idx for idx, target in enumerate(rm_dataset.targets) if target == rm_dataset.class_to_idx[CLASS_TO_GENERATE]]\n",
    "print(f'{len(indices)} samples from class {CLASS_TO_GENERATE}')"
   ]
  },
  {
   "cell_type": "code",
   "execution_count": 9,
   "metadata": {},
   "outputs": [],
   "source": [
    "dataloader = DataLoader(Subset(rm_dataset, indices),\n",
    "                        batch_size=BATCH_SIZE,\n",
    "                        shuffle=True,\n",
    "                        drop_last=True)"
   ]
  },
  {
   "cell_type": "markdown",
   "metadata": {
    "application/vnd.databricks.v1+cell": {
     "inputWidgets": {},
     "nuid": "299b6c59-9cc7-457d-b3ea-c883f4e95f5b",
     "showTitle": false,
     "title": ""
    }
   },
   "source": [
    "### GAN implementation"
   ]
  },
  {
   "cell_type": "code",
   "execution_count": 10,
   "metadata": {
    "application/vnd.databricks.v1+cell": {
     "inputWidgets": {},
     "nuid": "1ae4f614-92c9-4dde-811f-74708d992ffa",
     "showTitle": false,
     "title": ""
    }
   },
   "outputs": [
    {
     "name": "stdout",
     "output_type": "stream",
     "text": [
      "img_shape: (3, 208, 176)\n"
     ]
    }
   ],
   "source": [
    "import numpy as np\n",
    "import math\n",
    "from tqdm import tqdm, trange\n",
    "\n",
    "from torch.autograd import Variable\n",
    "\n",
    "import torch.nn as nn\n",
    "import torch.nn.functional as F\n",
    "import torch\n",
    "\n",
    "import os.path\n",
    "\n",
    "if RESIZE is not None:\n",
    "    img_shape = 3, RESIZE[0], RESIZE[1]\n",
    "else:\n",
    "    img_shape = 3, SRC_IMG_HEIGHT, SRC_IMG_WIDTH\n",
    "print('img_shape:', img_shape)\n",
    "\n",
    "class Generator(nn.Module):\n",
    "    def __init__(self, latent_dim):\n",
    "        super(Generator, self).__init__()\n",
    "        self.latent_dim = latent_dim\n",
    "\n",
    "        def block(in_feat, out_feat, normalize=True):\n",
    "            layers = [nn.Linear(in_feat, out_feat)]\n",
    "            if normalize:\n",
    "                layers.append(nn.BatchNorm1d(out_feat, 0.8))\n",
    "            layers.append(nn.LeakyReLU(0.2, inplace=True))\n",
    "            return layers\n",
    "\n",
    "        self.model = nn.Sequential(\n",
    "            *block(self.latent_dim, 128, normalize=False),\n",
    "            *block(128, 256),\n",
    "            *block(256, 512),\n",
    "            *block(512, 1024),\n",
    "            nn.Linear(1024, int(np.prod(img_shape))),\n",
    "            nn.Tanh()\n",
    "        )\n",
    "\n",
    "    def forward(self, z):\n",
    "        img = self.model(z)\n",
    "        img = img.view(img.size(0), *img_shape)\n",
    "        return img\n",
    "\n",
    "\n",
    "class Discriminator(nn.Module):\n",
    "    def __init__(self):\n",
    "        super(Discriminator, self).__init__()\n",
    "\n",
    "        self.model = nn.Sequential(\n",
    "            nn.Linear(int(np.prod(img_shape)), 512),\n",
    "            nn.LeakyReLU(0.2, inplace=True),\n",
    "            nn.Linear(512, 256),\n",
    "            nn.LeakyReLU(0.2, inplace=True),\n",
    "            nn.Linear(256, 1),\n",
    "            nn.Sigmoid(),\n",
    "        )\n",
    "\n",
    "    def forward(self, img):\n",
    "        img_flat = img.view(img.size(0), -1)\n",
    "        validity = self.model(img_flat)\n",
    "\n",
    "        return validity\n",
    "\n",
    "\n",
    "class GAN:\n",
    "  def __init__(self, b1=0.5, b2=0.999, lr=0.0002, latent_dim=100, n_epochs=100):\n",
    "    \n",
    "    self.b1 = b1\n",
    "    self.b2 = b2\n",
    "    self.lr = lr\n",
    "    self.n_epochs = n_epochs\n",
    "    self.latent_dim = latent_dim\n",
    "    self.cuda = True if torch.cuda.is_available() else False\n",
    "\n",
    "    self.adversarial_loss = torch.nn.BCELoss()\n",
    "    self.generator = Generator(latent_dim)\n",
    "    self.discriminator = Discriminator()\n",
    "\n",
    "\n",
    "    if self.cuda:\n",
    "        self.generator.cuda()\n",
    "        self.discriminator.cuda()\n",
    "        self.adversarial_loss.cuda()\n",
    "\n",
    "  def fit(self, dataloader):\n",
    "    optimizer_G = torch.optim.Adam(self.generator.parameters(), lr=self.lr, betas=(self.b1, self.b2))\n",
    "    optimizer_D = torch.optim.Adam(self.discriminator.parameters(), lr=self.lr, betas=(self.b1, self.b2))\n",
    "\n",
    "    Tensor = torch.cuda.FloatTensor if self.cuda else torch.FloatTensor\n",
    "    logger = trange(self.n_epochs, desc=f\"Epoch: 0, G_Loss: 0, D_Loss: 0\")\n",
    "    \n",
    "    for epoch in logger:\n",
    "        for i, (imgs, _) in enumerate(dataloader):\n",
    "            #print('imgs.size(0)', imgs.shape)\n",
    "            valid = Variable(Tensor(imgs.size(0), 1).fill_(1.0), requires_grad=False)\n",
    "            fake = Variable(Tensor(imgs.size(0), 1).fill_(0.0), requires_grad=False)\n",
    "            real_imgs = Variable(imgs.type(Tensor))\n",
    "\n",
    "            optimizer_G.zero_grad()\n",
    "\n",
    "            z = Variable(Tensor(np.random.normal(0, 1, (imgs.shape[0], self.latent_dim))))\n",
    "\n",
    "            gen_imgs = self.generator(z)\n",
    "\n",
    "            g_loss = self.adversarial_loss(self.discriminator(gen_imgs), valid)\n",
    "\n",
    "            g_loss.backward()\n",
    "            optimizer_G.step()\n",
    "\n",
    "            optimizer_D.zero_grad()\n",
    "\n",
    "            real_loss = self.adversarial_loss(self.discriminator(real_imgs), valid)\n",
    "            fake_loss = self.adversarial_loss(self.discriminator(gen_imgs.detach()), fake)\n",
    "            d_loss = (real_loss + fake_loss) / 2\n",
    "\n",
    "            d_loss.backward()\n",
    "            optimizer_D.step()\n",
    "            \n",
    "  def generate(self, n_samples):\n",
    "    Tensor = torch.cuda.FloatTensor if self.cuda else torch.FloatTensor\n",
    "    z = Variable(Tensor(np.random.normal(0, 1, (n_samples, self.latent_dim))))\n",
    "    return self.generator(z)\n",
    "\n",
    "  def fn_gen(self, base_dir: str, prefix: str, fn: str):\n",
    "        return os.path.join(base_dir, f'{prefix}_{fn}')\n",
    "\n",
    "  def store(self, base_dir: str = '.',\n",
    "           prefix: str = ''):\n",
    "    generator_path = self.fn_gen(base_dir, prefix, 'generator.pt')\n",
    "    discriminator_path = self.fn_gen(base_dir, prefix, 'discriminator.pt')\n",
    "    torch.save(self.generator.state_dict(), generator_path)\n",
    "    torch.save(self.discriminator.state_dict(), discriminator_path)\n",
    "    \n",
    "  def load(self, base_dir: str = '.',\n",
    "           prefix: str = '', print_loaded_model: bool = False):\n",
    "    generator_path = self.fn_gen(base_dir, prefix, 'generator.pt')\n",
    "    self.generator.load_state_dict(torch.load(generator_path))\n",
    "    if print_loaded_model:\n",
    "        print(self.generator.eval())\n",
    "    \n",
    "    discriminator_path = self.fn_gen(base_dir, prefix, 'discriminator.pt')\n",
    "    self.discriminator.load_state_dict(torch.load(discriminator_path))\n",
    "    if print_loaded_model:\n",
    "        print(self.discriminator.eval())\n",
    "    \n",
    "    \n",
    "# generate samples for indicated class\n",
    "def create_save_samples(model: GAN, base_dir, n_imgs: int = 50, img_batch_size: int = 5):\n",
    "    \n",
    "\n",
    "    if not os.path.exists(base_dir):\n",
    "        os.mkdir(base_dir)\n",
    "        \n",
    "    real_n_imgs = n_imgs - (n_imgs % img_batch_size)\n",
    "    print(f'generating {real_n_imgs} images')\n",
    "\n",
    "    for i in tqdm(range(0, real_n_imgs, img_batch_size), ncols=100):\n",
    "        \n",
    "        fn_datetime_prefix = datetime.datetime.now().strftime(f'%Y_%m_%d_%H_%M_%S')\n",
    "\n",
    "        with torch.no_grad():\n",
    "            imgs = model.generate(img_batch_size)\n",
    "\n",
    "        for j, im_tensor in enumerate(imgs):\n",
    "            im_fn = f'{fn_datetime_prefix}__{i}_{j}.jpg'\n",
    "            im_path = os.path.join(base_dir, im_fn)\n",
    "            #print(i, im_path)\n",
    "            save_image(im_tensor, im_path)"
   ]
  },
  {
   "cell_type": "markdown",
   "metadata": {
    "application/vnd.databricks.v1+cell": {
     "inputWidgets": {},
     "nuid": "362c377a-7c54-4904-84e9-73540c68b043",
     "showTitle": false,
     "title": ""
    }
   },
   "source": [
    "##### Learn"
   ]
  },
  {
   "cell_type": "code",
   "execution_count": null,
   "metadata": {},
   "outputs": [],
   "source": [
    "gan = GAN(n_epochs=10, latent_dim=100)"
   ]
  },
  {
   "cell_type": "code",
   "execution_count": null,
   "metadata": {
    "application/vnd.databricks.v1+cell": {
     "inputWidgets": {},
     "nuid": "1275223a-5333-4619-b027-d1bcf73a00e5",
     "showTitle": false,
     "title": ""
    }
   },
   "outputs": [],
   "source": [
    "gan.fit(dataloader)"
   ]
  },
  {
   "cell_type": "markdown",
   "metadata": {
    "application/vnd.databricks.v1+cell": {
     "inputWidgets": {},
     "nuid": "7b679b3c-beea-4727-a68b-11ad363f302f",
     "showTitle": false,
     "title": ""
    }
   },
   "source": [
    "##### Generate/Plot"
   ]
  },
  {
   "cell_type": "code",
   "execution_count": null,
   "metadata": {
    "application/vnd.databricks.v1+cell": {
     "inputWidgets": {},
     "nuid": "f67655b4-e0cc-4cd0-be5a-ce3ea65f5317",
     "showTitle": false,
     "title": ""
    }
   },
   "outputs": [],
   "source": [
    "with torch.no_grad():\n",
    "  grid_img = make_grid(gan.generate(5), nrow=5)\n",
    "  plt.imshow(grid_img.permute(1,2,0).cpu().detach().numpy())\n"
   ]
  },
  {
   "cell_type": "code",
   "execution_count": null,
   "metadata": {
    "application/vnd.databricks.v1+cell": {
     "inputWidgets": {},
     "nuid": "ba6dafce-baeb-43b5-9088-0f0ab4109d81",
     "showTitle": false,
     "title": ""
    }
   },
   "outputs": [],
   "source": [
    "gan2 = GAN(n_epochs=200)\n",
    "gan2.fit(dataloader)"
   ]
  },
  {
   "cell_type": "code",
   "execution_count": null,
   "metadata": {},
   "outputs": [],
   "source": [
    "with torch.no_grad():\n",
    "  grid_img = make_grid(gan2.generate(5), nrow=5)\n",
    "  plt.imshow(grid_img.permute(1,2,0).cpu().detach().numpy())\n"
   ]
  },
  {
   "cell_type": "code",
   "execution_count": null,
   "metadata": {},
   "outputs": [],
   "source": [
    "gan2.store(prefix=CLASS_TO_GENERATE)"
   ]
  },
  {
   "cell_type": "markdown",
   "metadata": {
    "tags": []
   },
   "source": [
    "# Run from stored model"
   ]
  },
  {
   "cell_type": "code",
   "execution_count": 20,
   "metadata": {},
   "outputs": [],
   "source": [
    "# MODEL variables\n",
    "BATCH_SIZE = 4\n",
    "\n",
    "# INPUT variables\n",
    "data_dir = os.path.join(\"data\", \"Alzheimer_s Dataset\", \"train\")\n",
    "SRC_IMG_HEIGHT, SRC_IMG_WIDTH = 208, 176\n",
    "\n",
    "# SYNTH variables\n",
    "N_TO_GENERATE = 1000\n",
    "SYNTHETIC_BASE_DIR = os.path.join('data', 'synth', 'test')\n"
   ]
  },
  {
   "cell_type": "markdown",
   "metadata": {},
   "source": [
    "## test stored model"
   ]
  },
  {
   "cell_type": "code",
   "execution_count": 22,
   "metadata": {},
   "outputs": [
    {
     "name": "stderr",
     "output_type": "stream",
     "text": [
      "Clipping input data to the valid range for imshow with RGB data ([0..1] for floats or [0..255] for integers).\n"
     ]
    },
    {
     "data": {
      "image/png": "[encoded data removed]",
      "text/plain": [
       "<Figure size 432x288 with 1 Axes>"
      ]
     },
     "metadata": {
      "needs_background": "light"
     },
     "output_type": "display_data"
    }
   ],
   "source": [
    "CLASS_TO_GENERATE = CLASSES[1]\n",
    "ganL = GAN()\n",
    "ganL.load(prefix=class_to_generate)\n",
    "with torch.no_grad():\n",
    "    grid_img = make_grid(ganL.generate(5), nrow=5)\n",
    "    plt.imshow(grid_img.permute(1,2,0).cpu().detach().numpy())\n"
   ]
  },
  {
   "cell_type": "code",
   "execution_count": 18,
   "metadata": {},
   "outputs": [
    {
     "name": "stdout",
     "output_type": "stream",
     "text": [
      "MildDemented\n",
      "generating 1000 images\n"
     ]
    },
    {
     "name": "stderr",
     "output_type": "stream",
     "text": [
      "100%|████████████████████████████████████████████████████████████| 200/200 [00:01<00:00, 114.54it/s]\n"
     ]
    },
    {
     "name": "stdout",
     "output_type": "stream",
     "text": [
      "ModerateDemented\n",
      "generating 1000 images\n"
     ]
    },
    {
     "name": "stderr",
     "output_type": "stream",
     "text": [
      "100%|████████████████████████████████████████████████████████████| 200/200 [00:01<00:00, 112.25it/s]\n"
     ]
    },
    {
     "name": "stdout",
     "output_type": "stream",
     "text": [
      "NonDemented\n",
      "generating 1000 images\n"
     ]
    },
    {
     "name": "stderr",
     "output_type": "stream",
     "text": [
      "100%|████████████████████████████████████████████████████████████| 200/200 [00:01<00:00, 115.06it/s]\n"
     ]
    },
    {
     "name": "stdout",
     "output_type": "stream",
     "text": [
      "VeryMildDemented\n",
      "generating 1000 images\n"
     ]
    },
    {
     "name": "stderr",
     "output_type": "stream",
     "text": [
      "100%|████████████████████████████████████████████████████████████| 200/200 [00:01<00:00, 113.07it/s]\n"
     ]
    }
   ],
   "source": [
    "for class_to_generate in CLASSES:\n",
    "    print(class_to_generate)\n",
    "    ganL = GAN()\n",
    "    ganL.load(prefix=class_to_generate)\n",
    "    create_save_samples(ganL, os.path.join(SYNTHETIC_BASE_DIR, class_to_generate), n_imgs=N_TO_GENERATE)"
   ]
  }
 ],
 "metadata": {
  "application/vnd.databricks.v1+notebook": {
   "dashboards": [],
   "language": "python",
   "notebookMetadata": {
    "pythonIndentUnit": 2
   },
   "notebookName": "manual_vs_imitare",
   "notebookOrigID": 1605861103134972,
   "widgets": {}
  },
  "instance_type": "ml.g4dn.xlarge",
  "kernelspec": {
   "display_name": "Python 3 (ipykernel)",
   "language": "python",
   "name": "python3"
  },
  "language_info": {
   "codemirror_mode": {
    "name": "ipython",
    "version": 3
   },
   "file_extension": ".py",
   "mimetype": "text/x-python",
   "name": "python",
   "nbconvert_exporter": "python",
   "pygments_lexer": "ipython3",
   "version": "3.8.10"
  }
 },
 "nbformat": 4,
 "nbformat_minor": 4
}
