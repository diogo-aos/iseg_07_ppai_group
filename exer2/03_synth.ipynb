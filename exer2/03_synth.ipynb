{
 "cells": [
  {
   "cell_type": "code",
   "execution_count": 2,
   "id": "3fad9a3c-3479-477a-a961-e862bcab2056",
   "metadata": {},
   "outputs": [
    {
     "name": "stdout",
     "output_type": "stream",
     "text": [
      "Collecting sdv\n",
      "  Downloading sdv-0.16.0-py2.py3-none-any.whl (102 kB)\n",
      "\u001b[K     |████████████████████████████████| 102 kB 7.2 MB/s eta 0:00:01\n",
      "\u001b[?25hRequirement already satisfied: tqdm<5,>=4.15 in /home/ciafa/mnt_point_3/dasilva/venv/lib/python3.8/site-packages (from sdv) (4.64.0)\n",
      "Requirement already satisfied: pandas<2,>=1.1.3 in /home/ciafa/mnt_point_3/dasilva/venv/lib/python3.8/site-packages (from sdv) (1.4.3)\n",
      "Collecting sdmetrics<0.6,>=0.5.0\n",
      "  Downloading sdmetrics-0.5.0-py2.py3-none-any.whl (98 kB)\n",
      "\u001b[K     |████████████████████████████████| 98 kB 6.7 MB/s  eta 0:00:01\n",
      "\u001b[?25hCollecting rdt<0.7,>=0.6.2\n",
      "  Downloading rdt-0.6.4-py2.py3-none-any.whl (45 kB)\n",
      "\u001b[K     |████████████████████████████████| 45 kB 2.3 MB/s  eta 0:00:01\n",
      "\u001b[?25hCollecting graphviz<1,>=0.13.2\n",
      "  Downloading graphviz-0.20-py3-none-any.whl (46 kB)\n",
      "\u001b[K     |████████████████████████████████| 46 kB 3.5 MB/s  eta 0:00:01\n",
      "\u001b[?25hCollecting ctgan<0.6,>=0.5.1\n",
      "  Downloading ctgan-0.5.1-py2.py3-none-any.whl (24 kB)\n",
      "Collecting copulas<0.8,>=0.7.0\n",
      "  Downloading copulas-0.7.0-py2.py3-none-any.whl (53 kB)\n",
      "\u001b[K     |████████████████████████████████| 53 kB 1.4 MB/s  eta 0:00:01\n",
      "\u001b[?25hCollecting Faker<10,>=3.0.0\n",
      "  Downloading Faker-9.9.1-py3-none-any.whl (1.2 MB)\n",
      "\u001b[K     |████████████████████████████████| 1.2 MB 59.5 MB/s eta 0:00:01\n",
      "\u001b[?25hCollecting deepecho<0.4,>=0.3.0.post1\n",
      "  Downloading deepecho-0.3.0.post1-py2.py3-none-any.whl (26 kB)\n",
      "Requirement already satisfied: numpy<2,>=1.20.0; python_version >= \"3.7\" in /home/ciafa/mnt_point_3/dasilva/venv/lib/python3.8/site-packages (from sdv) (1.23.1)\n",
      "Requirement already satisfied: python-dateutil>=2.8.1 in /home/ciafa/mnt_point_3/dasilva/venv/lib/python3.8/site-packages (from pandas<2,>=1.1.3->sdv) (2.8.2)\n",
      "Requirement already satisfied: pytz>=2020.1 in /home/ciafa/mnt_point_3/dasilva/venv/lib/python3.8/site-packages (from pandas<2,>=1.1.3->sdv) (2022.1)\n",
      "Requirement already satisfied: torch<2,>=1.8.0 in /home/ciafa/mnt_point_3/dasilva/venv/lib/python3.8/site-packages (from sdmetrics<0.6,>=0.5.0->sdv) (1.12.0)\n",
      "Collecting pyts<0.13.0,>=0.12.0\n",
      "  Downloading pyts-0.12.0-py3-none-any.whl (2.5 MB)\n",
      "\u001b[K     |████████████████████████████████| 2.5 MB 34.2 MB/s eta 0:00:01\n",
      "\u001b[?25hCollecting scipy<2,>=1.5.4\n",
      "  Downloading scipy-1.8.1-cp38-cp38-manylinux_2_17_x86_64.manylinux2014_x86_64.whl (41.6 MB)\n",
      "\u001b[K     |████████████████████████████████| 41.6 MB 36 kB/s s eta 0:00:01\n",
      "\u001b[?25hCollecting scikit-learn<2,>=0.24\n",
      "  Downloading scikit_learn-1.1.1-cp38-cp38-manylinux_2_17_x86_64.manylinux2014_x86_64.whl (31.2 MB)\n",
      "\u001b[K     |████████████████████████████████| 31.2 MB 77.0 MB/s eta 0:00:01\n",
      "\u001b[?25hCollecting pyyaml<6,>=5.4.1\n",
      "  Downloading PyYAML-5.4.1-cp38-cp38-manylinux1_x86_64.whl (662 kB)\n",
      "\u001b[K     |████████████████████████████████| 662 kB 73.2 MB/s eta 0:00:01\n",
      "\u001b[?25hRequirement already satisfied: psutil<6,>=5.7 in /home/ciafa/mnt_point_3/dasilva/venv/lib/python3.8/site-packages (from rdt<0.7,>=0.6.2->sdv) (5.9.1)\n",
      "Requirement already satisfied: torchvision<1,>=0.9.0 in /home/ciafa/mnt_point_3/dasilva/venv/lib/python3.8/site-packages (from ctgan<0.6,>=0.5.1->sdv) (0.13.0)\n",
      "Requirement already satisfied: packaging<22,>=20 in /home/ciafa/mnt_point_3/dasilva/venv/lib/python3.8/site-packages (from ctgan<0.6,>=0.5.1->sdv) (21.3)\n",
      "Requirement already satisfied: matplotlib<4,>=3.4.0; python_version >= \"3.7\" in /home/ciafa/mnt_point_3/dasilva/venv/lib/python3.8/site-packages (from copulas<0.8,>=0.7.0->sdv) (3.5.2)\n",
      "Collecting text-unidecode==1.3\n",
      "  Downloading text_unidecode-1.3-py2.py3-none-any.whl (78 kB)\n",
      "\u001b[K     |████████████████████████████████| 78 kB 6.8 MB/s  eta 0:00:01\n",
      "\u001b[?25hRequirement already satisfied: six>=1.5 in /home/ciafa/mnt_point_3/dasilva/venv/lib/python3.8/site-packages (from python-dateutil>=2.8.1->pandas<2,>=1.1.3->sdv) (1.16.0)\n",
      "Requirement already satisfied: typing-extensions in /home/ciafa/mnt_point_3/dasilva/venv/lib/python3.8/site-packages (from torch<2,>=1.8.0->sdmetrics<0.6,>=0.5.0->sdv) (4.3.0)\n",
      "Collecting joblib>=0.12\n",
      "  Downloading joblib-1.1.0-py2.py3-none-any.whl (306 kB)\n",
      "\u001b[K     |████████████████████████████████| 306 kB 77.6 MB/s eta 0:00:01\n",
      "\u001b[?25hCollecting numba>=0.48.0\n",
      "  Downloading numba-0.55.2-cp38-cp38-manylinux2014_x86_64.manylinux_2_17_x86_64.whl (3.4 MB)\n",
      "\u001b[K     |████████████████████████████████| 3.4 MB 73.5 MB/s eta 0:00:01\n",
      "\u001b[?25hCollecting threadpoolctl>=2.0.0\n",
      "  Downloading threadpoolctl-3.1.0-py3-none-any.whl (14 kB)\n",
      "Requirement already satisfied: pillow!=8.3.*,>=5.3.0 in /home/ciafa/mnt_point_3/dasilva/venv/lib/python3.8/site-packages (from torchvision<1,>=0.9.0->ctgan<0.6,>=0.5.1->sdv) (9.2.0)\n",
      "Requirement already satisfied: requests in /home/ciafa/mnt_point_3/dasilva/venv/lib/python3.8/site-packages (from torchvision<1,>=0.9.0->ctgan<0.6,>=0.5.1->sdv) (2.28.1)\n",
      "Requirement already satisfied: pyparsing!=3.0.5,>=2.0.2 in /home/ciafa/mnt_point_3/dasilva/venv/lib/python3.8/site-packages (from packaging<22,>=20->ctgan<0.6,>=0.5.1->sdv) (3.0.9)\n",
      "Requirement already satisfied: kiwisolver>=1.0.1 in /home/ciafa/mnt_point_3/dasilva/venv/lib/python3.8/site-packages (from matplotlib<4,>=3.4.0; python_version >= \"3.7\"->copulas<0.8,>=0.7.0->sdv) (1.4.4)\n",
      "Requirement already satisfied: cycler>=0.10 in /home/ciafa/mnt_point_3/dasilva/venv/lib/python3.8/site-packages (from matplotlib<4,>=3.4.0; python_version >= \"3.7\"->copulas<0.8,>=0.7.0->sdv) (0.11.0)\n",
      "Requirement already satisfied: fonttools>=4.22.0 in /home/ciafa/mnt_point_3/dasilva/venv/lib/python3.8/site-packages (from matplotlib<4,>=3.4.0; python_version >= \"3.7\"->copulas<0.8,>=0.7.0->sdv) (4.34.4)\n",
      "Collecting llvmlite<0.39,>=0.38.0rc1\n",
      "  Downloading llvmlite-0.38.1-cp38-cp38-manylinux_2_17_x86_64.manylinux2014_x86_64.whl (34.5 MB)\n",
      "\u001b[K     |████████████████████████████████| 34.5 MB 4.3 kB/s  eta 0:00:01\n",
      "\u001b[?25hRequirement already satisfied: setuptools in /home/ciafa/mnt_point_3/dasilva/venv/lib/python3.8/site-packages (from numba>=0.48.0->pyts<0.13.0,>=0.12.0->sdmetrics<0.6,>=0.5.0->sdv) (44.0.0)\n",
      "Requirement already satisfied: idna<4,>=2.5 in /home/ciafa/mnt_point_3/dasilva/venv/lib/python3.8/site-packages (from requests->torchvision<1,>=0.9.0->ctgan<0.6,>=0.5.1->sdv) (3.3)\n",
      "Requirement already satisfied: urllib3<1.27,>=1.21.1 in /home/ciafa/mnt_point_3/dasilva/venv/lib/python3.8/site-packages (from requests->torchvision<1,>=0.9.0->ctgan<0.6,>=0.5.1->sdv) (1.26.10)\n",
      "Requirement already satisfied: charset-normalizer<3,>=2 in /home/ciafa/mnt_point_3/dasilva/venv/lib/python3.8/site-packages (from requests->torchvision<1,>=0.9.0->ctgan<0.6,>=0.5.1->sdv) (2.1.0)\n",
      "Requirement already satisfied: certifi>=2017.4.17 in /home/ciafa/mnt_point_3/dasilva/venv/lib/python3.8/site-packages (from requests->torchvision<1,>=0.9.0->ctgan<0.6,>=0.5.1->sdv) (2022.6.15)\n",
      "\u001b[31mERROR: rdt 0.6.4 has requirement scipy<1.8,>=1.5.4, but you'll have scipy 1.8.1 which is incompatible.\u001b[0m\n",
      "\u001b[31mERROR: numba 0.55.2 has requirement numpy<1.23,>=1.18, but you'll have numpy 1.23.1 which is incompatible.\u001b[0m\n",
      "Installing collected packages: scipy, copulas, pyyaml, joblib, threadpoolctl, scikit-learn, rdt, llvmlite, numba, pyts, sdmetrics, graphviz, ctgan, text-unidecode, Faker, deepecho, sdv\n",
      "Successfully installed Faker-9.9.1 copulas-0.7.0 ctgan-0.5.1 deepecho-0.3.0.post1 graphviz-0.20 joblib-1.1.0 llvmlite-0.38.1 numba-0.55.2 pyts-0.12.0 pyyaml-5.4.1 rdt-0.6.4 scikit-learn-1.1.1 scipy-1.8.1 sdmetrics-0.5.0 sdv-0.16.0 text-unidecode-1.3 threadpoolctl-3.1.0\n"
     ]
    }
   ],
   "source": [
    "!pip install sdv"
   ]
  },
  {
   "cell_type": "code",
   "execution_count": 3,
   "id": "58db5288-67ac-48b0-81a5-33504b0b6353",
   "metadata": {},
   "outputs": [
    {
     "name": "stderr",
     "output_type": "stream",
     "text": [
      "/home/ciafa/mnt_point_3/dasilva/venv/lib/python3.8/site-packages/tqdm/auto.py:22: TqdmWarning: IProgress not found. Please update jupyter and ipywidgets. See https://ipywidgets.readthedocs.io/en/stable/user_install.html\n",
      "  from .autonotebook import tqdm as notebook_tqdm\n"
     ]
    },
    {
     "ename": "ImportError",
     "evalue": "Numba needs NumPy 1.22 or less",
     "output_type": "error",
     "traceback": [
      "\u001b[0;31m---------------------------------------------------------------------------\u001b[0m",
      "\u001b[0;31mImportError\u001b[0m                               Traceback (most recent call last)",
      "Input \u001b[0;32mIn [3]\u001b[0m, in \u001b[0;36m<cell line: 1>\u001b[0;34m()\u001b[0m\n\u001b[0;32m----> 1\u001b[0m \u001b[38;5;28;01mfrom\u001b[39;00m \u001b[38;5;21;01msdv\u001b[39;00m\u001b[38;5;21;01m.\u001b[39;00m\u001b[38;5;21;01mtabular\u001b[39;00m \u001b[38;5;28;01mimport\u001b[39;00m CTGAN\n",
      "File \u001b[0;32m/home/ciafa/mnt_point_3/dasilva/venv/lib/python3.8/site-packages/sdv/__init__.py:11\u001b[0m, in \u001b[0;36m<module>\u001b[0;34m\u001b[0m\n\u001b[1;32m      8\u001b[0m __email__ \u001b[38;5;241m=\u001b[39m \u001b[38;5;124m'\u001b[39m\u001b[38;5;124mdailabmit@gmail.com\u001b[39m\u001b[38;5;124m'\u001b[39m\n\u001b[1;32m      9\u001b[0m __version__ \u001b[38;5;241m=\u001b[39m \u001b[38;5;124m'\u001b[39m\u001b[38;5;124m0.16.0\u001b[39m\u001b[38;5;124m'\u001b[39m\n\u001b[0;32m---> 11\u001b[0m \u001b[38;5;28;01mfrom\u001b[39;00m \u001b[38;5;21;01msdv\u001b[39;00m \u001b[38;5;28;01mimport\u001b[39;00m constraints, evaluation, metadata, relational, tabular\n\u001b[1;32m     12\u001b[0m \u001b[38;5;28;01mfrom\u001b[39;00m \u001b[38;5;21;01msdv\u001b[39;00m\u001b[38;5;21;01m.\u001b[39;00m\u001b[38;5;21;01mdemo\u001b[39;00m \u001b[38;5;28;01mimport\u001b[39;00m get_available_demos, load_demo\n\u001b[1;32m     13\u001b[0m \u001b[38;5;28;01mfrom\u001b[39;00m \u001b[38;5;21;01msdv\u001b[39;00m\u001b[38;5;21;01m.\u001b[39;00m\u001b[38;5;21;01mmetadata\u001b[39;00m \u001b[38;5;28;01mimport\u001b[39;00m Metadata, Table\n",
      "File \u001b[0;32m/home/ciafa/mnt_point_3/dasilva/venv/lib/python3.8/site-packages/sdv/evaluation.py:4\u001b[0m, in \u001b[0;36m<module>\u001b[0;34m\u001b[0m\n\u001b[1;32m      1\u001b[0m \u001b[38;5;124;03m\"\"\"Tools to evaluate the synthesized data.\"\"\"\u001b[39;00m\n\u001b[1;32m      3\u001b[0m \u001b[38;5;28;01mimport\u001b[39;00m \u001b[38;5;21;01mpandas\u001b[39;00m \u001b[38;5;28;01mas\u001b[39;00m \u001b[38;5;21;01mpd\u001b[39;00m\n\u001b[0;32m----> 4\u001b[0m \u001b[38;5;28;01mimport\u001b[39;00m \u001b[38;5;21;01msdmetrics\u001b[39;00m\n\u001b[1;32m      6\u001b[0m \u001b[38;5;28;01mfrom\u001b[39;00m \u001b[38;5;21;01msdv\u001b[39;00m\u001b[38;5;21;01m.\u001b[39;00m\u001b[38;5;21;01mmetadata\u001b[39;00m\u001b[38;5;21;01m.\u001b[39;00m\u001b[38;5;21;01mdataset\u001b[39;00m \u001b[38;5;28;01mimport\u001b[39;00m Metadata\n\u001b[1;32m      9\u001b[0m \u001b[38;5;28;01mdef\u001b[39;00m \u001b[38;5;21m_validate_arguments\u001b[39m(synthetic_data, real_data, metadata, root_path, table_name):\n",
      "File \u001b[0;32m/home/ciafa/mnt_point_3/dasilva/venv/lib/python3.8/site-packages/sdmetrics/__init__.py:11\u001b[0m, in \u001b[0;36m<module>\u001b[0;34m\u001b[0m\n\u001b[1;32m      7\u001b[0m __version__ \u001b[38;5;241m=\u001b[39m \u001b[38;5;124m'\u001b[39m\u001b[38;5;124m0.5.0\u001b[39m\u001b[38;5;124m'\u001b[39m\n\u001b[1;32m      9\u001b[0m \u001b[38;5;28;01mimport\u001b[39;00m \u001b[38;5;21;01mpandas\u001b[39;00m \u001b[38;5;28;01mas\u001b[39;00m \u001b[38;5;21;01mpd\u001b[39;00m\n\u001b[0;32m---> 11\u001b[0m \u001b[38;5;28;01mfrom\u001b[39;00m \u001b[38;5;21;01msdmetrics\u001b[39;00m \u001b[38;5;28;01mimport\u001b[39;00m (\n\u001b[1;32m     12\u001b[0m     column_pairs, demos, goal, multi_table, single_column, single_table, timeseries)\n\u001b[1;32m     13\u001b[0m \u001b[38;5;28;01mfrom\u001b[39;00m \u001b[38;5;21;01msdmetrics\u001b[39;00m\u001b[38;5;21;01m.\u001b[39;00m\u001b[38;5;21;01mdemos\u001b[39;00m \u001b[38;5;28;01mimport\u001b[39;00m load_demo\n\u001b[1;32m     15\u001b[0m __all__ \u001b[38;5;241m=\u001b[39m [\n\u001b[1;32m     16\u001b[0m     \u001b[38;5;124m'\u001b[39m\u001b[38;5;124mdemos\u001b[39m\u001b[38;5;124m'\u001b[39m,\n\u001b[1;32m     17\u001b[0m     \u001b[38;5;124m'\u001b[39m\u001b[38;5;124mload_demo\u001b[39m\u001b[38;5;124m'\u001b[39m,\n\u001b[0;32m   (...)\u001b[0m\n\u001b[1;32m     23\u001b[0m     \u001b[38;5;124m'\u001b[39m\u001b[38;5;124mtimeseries\u001b[39m\u001b[38;5;124m'\u001b[39m,\n\u001b[1;32m     24\u001b[0m ]\n",
      "File \u001b[0;32m/home/ciafa/mnt_point_3/dasilva/venv/lib/python3.8/site-packages/sdmetrics/timeseries/__init__.py:3\u001b[0m, in \u001b[0;36m<module>\u001b[0;34m\u001b[0m\n\u001b[1;32m      1\u001b[0m \u001b[38;5;124;03m\"\"\"Metrics for timeseries datasets.\"\"\"\u001b[39;00m\n\u001b[0;32m----> 3\u001b[0m \u001b[38;5;28;01mfrom\u001b[39;00m \u001b[38;5;21;01msdmetrics\u001b[39;00m\u001b[38;5;21;01m.\u001b[39;00m\u001b[38;5;21;01mtimeseries\u001b[39;00m \u001b[38;5;28;01mimport\u001b[39;00m base, detection, efficacy, ml_scorers\n\u001b[1;32m      4\u001b[0m \u001b[38;5;28;01mfrom\u001b[39;00m \u001b[38;5;21;01msdmetrics\u001b[39;00m\u001b[38;5;21;01m.\u001b[39;00m\u001b[38;5;21;01mtimeseries\u001b[39;00m\u001b[38;5;21;01m.\u001b[39;00m\u001b[38;5;21;01mbase\u001b[39;00m \u001b[38;5;28;01mimport\u001b[39;00m TimeSeriesMetric\n\u001b[1;32m      5\u001b[0m \u001b[38;5;28;01mfrom\u001b[39;00m \u001b[38;5;21;01msdmetrics\u001b[39;00m\u001b[38;5;21;01m.\u001b[39;00m\u001b[38;5;21;01mtimeseries\u001b[39;00m\u001b[38;5;21;01m.\u001b[39;00m\u001b[38;5;21;01mdetection\u001b[39;00m \u001b[38;5;28;01mimport\u001b[39;00m LSTMDetection, TimeSeriesDetectionMetric, TSFCDetection\n",
      "File \u001b[0;32m/home/ciafa/mnt_point_3/dasilva/venv/lib/python3.8/site-packages/sdmetrics/timeseries/detection.py:9\u001b[0m, in \u001b[0;36m<module>\u001b[0;34m\u001b[0m\n\u001b[1;32m      6\u001b[0m \u001b[38;5;28;01mfrom\u001b[39;00m \u001b[38;5;21;01msklearn\u001b[39;00m\u001b[38;5;21;01m.\u001b[39;00m\u001b[38;5;21;01mmodel_selection\u001b[39;00m \u001b[38;5;28;01mimport\u001b[39;00m train_test_split\n\u001b[1;32m      8\u001b[0m \u001b[38;5;28;01mfrom\u001b[39;00m \u001b[38;5;21;01msdmetrics\u001b[39;00m\u001b[38;5;21;01m.\u001b[39;00m\u001b[38;5;21;01mgoal\u001b[39;00m \u001b[38;5;28;01mimport\u001b[39;00m Goal\n\u001b[0;32m----> 9\u001b[0m \u001b[38;5;28;01mfrom\u001b[39;00m \u001b[38;5;21;01msdmetrics\u001b[39;00m\u001b[38;5;21;01m.\u001b[39;00m\u001b[38;5;21;01mtimeseries\u001b[39;00m \u001b[38;5;28;01mimport\u001b[39;00m ml_scorers\n\u001b[1;32m     10\u001b[0m \u001b[38;5;28;01mfrom\u001b[39;00m \u001b[38;5;21;01msdmetrics\u001b[39;00m\u001b[38;5;21;01m.\u001b[39;00m\u001b[38;5;21;01mtimeseries\u001b[39;00m\u001b[38;5;21;01m.\u001b[39;00m\u001b[38;5;21;01mbase\u001b[39;00m \u001b[38;5;28;01mimport\u001b[39;00m TimeSeriesMetric\n\u001b[1;32m     13\u001b[0m \u001b[38;5;28;01mclass\u001b[39;00m \u001b[38;5;21;01mTimeSeriesDetectionMetric\u001b[39;00m(TimeSeriesMetric):\n",
      "File \u001b[0;32m/home/ciafa/mnt_point_3/dasilva/venv/lib/python3.8/site-packages/sdmetrics/timeseries/ml_scorers.py:7\u001b[0m, in \u001b[0;36m<module>\u001b[0;34m\u001b[0m\n\u001b[1;32m      5\u001b[0m \u001b[38;5;28;01mimport\u001b[39;00m \u001b[38;5;21;01mrdt\u001b[39;00m\n\u001b[1;32m      6\u001b[0m \u001b[38;5;28;01mimport\u001b[39;00m \u001b[38;5;21;01mtorch\u001b[39;00m\n\u001b[0;32m----> 7\u001b[0m \u001b[38;5;28;01mfrom\u001b[39;00m \u001b[38;5;21;01mpyts\u001b[39;00m\u001b[38;5;21;01m.\u001b[39;00m\u001b[38;5;21;01mclassification\u001b[39;00m \u001b[38;5;28;01mimport\u001b[39;00m TimeSeriesForest\n\u001b[1;32m      8\u001b[0m \u001b[38;5;28;01mfrom\u001b[39;00m \u001b[38;5;21;01mpyts\u001b[39;00m\u001b[38;5;21;01m.\u001b[39;00m\u001b[38;5;21;01mmultivariate\u001b[39;00m\u001b[38;5;21;01m.\u001b[39;00m\u001b[38;5;21;01mclassification\u001b[39;00m \u001b[38;5;28;01mimport\u001b[39;00m MultivariateClassifier\n\u001b[1;32m     11\u001b[0m \u001b[38;5;28;01mdef\u001b[39;00m \u001b[38;5;21m_stack\u001b[39m(row):\n",
      "File \u001b[0;32m/home/ciafa/mnt_point_3/dasilva/venv/lib/python3.8/site-packages/pyts/classification/__init__.py:3\u001b[0m, in \u001b[0;36m<module>\u001b[0;34m\u001b[0m\n\u001b[1;32m      1\u001b[0m \u001b[38;5;124;03m\"\"\"The :mod:`pyts.classification` module includes classification algorithms.\"\"\"\u001b[39;00m\n\u001b[0;32m----> 3\u001b[0m \u001b[38;5;28;01mfrom\u001b[39;00m \u001b[38;5;21;01m.\u001b[39;00m\u001b[38;5;21;01mbossvs\u001b[39;00m \u001b[38;5;28;01mimport\u001b[39;00m BOSSVS\n\u001b[1;32m      4\u001b[0m \u001b[38;5;28;01mfrom\u001b[39;00m \u001b[38;5;21;01m.\u001b[39;00m\u001b[38;5;21;01mlearning_shapelets\u001b[39;00m \u001b[38;5;28;01mimport\u001b[39;00m LearningShapelets\n\u001b[1;32m      5\u001b[0m \u001b[38;5;28;01mfrom\u001b[39;00m \u001b[38;5;21;01m.\u001b[39;00m\u001b[38;5;21;01mknn\u001b[39;00m \u001b[38;5;28;01mimport\u001b[39;00m KNeighborsClassifier\n",
      "File \u001b[0;32m/home/ciafa/mnt_point_3/dasilva/venv/lib/python3.8/site-packages/pyts/classification/bossvs.py:14\u001b[0m, in \u001b[0;36m<module>\u001b[0;34m\u001b[0m\n\u001b[1;32m     12\u001b[0m \u001b[38;5;28;01mfrom\u001b[39;00m \u001b[38;5;21;01msklearn\u001b[39;00m\u001b[38;5;21;01m.\u001b[39;00m\u001b[38;5;21;01mpreprocessing\u001b[39;00m \u001b[38;5;28;01mimport\u001b[39;00m LabelEncoder\n\u001b[1;32m     13\u001b[0m \u001b[38;5;28;01mfrom\u001b[39;00m \u001b[38;5;21;01msklearn\u001b[39;00m\u001b[38;5;21;01m.\u001b[39;00m\u001b[38;5;21;01mfeature_extraction\u001b[39;00m\u001b[38;5;21;01m.\u001b[39;00m\u001b[38;5;21;01mtext\u001b[39;00m \u001b[38;5;28;01mimport\u001b[39;00m TfidfVectorizer\n\u001b[0;32m---> 14\u001b[0m \u001b[38;5;28;01mfrom\u001b[39;00m \u001b[38;5;21;01m.\u001b[39;00m\u001b[38;5;21;01m.\u001b[39;00m\u001b[38;5;21;01mapproximation\u001b[39;00m \u001b[38;5;28;01mimport\u001b[39;00m SymbolicFourierApproximation\n\u001b[1;32m     15\u001b[0m \u001b[38;5;28;01mfrom\u001b[39;00m \u001b[38;5;21;01m.\u001b[39;00m\u001b[38;5;21;01m.\u001b[39;00m\u001b[38;5;21;01mbase\u001b[39;00m \u001b[38;5;28;01mimport\u001b[39;00m UnivariateClassifierMixin\n\u001b[1;32m     16\u001b[0m \u001b[38;5;28;01mfrom\u001b[39;00m \u001b[38;5;21;01m.\u001b[39;00m\u001b[38;5;21;01m.\u001b[39;00m\u001b[38;5;21;01mutils\u001b[39;00m\u001b[38;5;21;01m.\u001b[39;00m\u001b[38;5;21;01mutils\u001b[39;00m \u001b[38;5;28;01mimport\u001b[39;00m _windowed_view\n",
      "File \u001b[0;32m/home/ciafa/mnt_point_3/dasilva/venv/lib/python3.8/site-packages/pyts/approximation/__init__.py:3\u001b[0m, in \u001b[0;36m<module>\u001b[0;34m\u001b[0m\n\u001b[1;32m      1\u001b[0m \u001b[38;5;124;03m\"\"\"The :mod:`pyts.approximation` module includes approximation algorithms.\"\"\"\u001b[39;00m\n\u001b[0;32m----> 3\u001b[0m \u001b[38;5;28;01mfrom\u001b[39;00m \u001b[38;5;21;01m.\u001b[39;00m\u001b[38;5;21;01mpaa\u001b[39;00m \u001b[38;5;28;01mimport\u001b[39;00m PiecewiseAggregateApproximation\n\u001b[1;32m      4\u001b[0m \u001b[38;5;28;01mfrom\u001b[39;00m \u001b[38;5;21;01m.\u001b[39;00m\u001b[38;5;21;01msax\u001b[39;00m \u001b[38;5;28;01mimport\u001b[39;00m SymbolicAggregateApproximation\n\u001b[1;32m      5\u001b[0m \u001b[38;5;28;01mfrom\u001b[39;00m \u001b[38;5;21;01m.\u001b[39;00m\u001b[38;5;21;01mdft\u001b[39;00m \u001b[38;5;28;01mimport\u001b[39;00m DiscreteFourierTransform\n",
      "File \u001b[0;32m/home/ciafa/mnt_point_3/dasilva/venv/lib/python3.8/site-packages/pyts/approximation/paa.py:8\u001b[0m, in \u001b[0;36m<module>\u001b[0;34m\u001b[0m\n\u001b[1;32m      6\u001b[0m \u001b[38;5;28;01mimport\u001b[39;00m \u001b[38;5;21;01mnumpy\u001b[39;00m \u001b[38;5;28;01mas\u001b[39;00m \u001b[38;5;21;01mnp\u001b[39;00m\n\u001b[1;32m      7\u001b[0m \u001b[38;5;28;01mfrom\u001b[39;00m \u001b[38;5;21;01mmath\u001b[39;00m \u001b[38;5;28;01mimport\u001b[39;00m ceil\n\u001b[0;32m----> 8\u001b[0m \u001b[38;5;28;01mfrom\u001b[39;00m \u001b[38;5;21;01mnumba\u001b[39;00m \u001b[38;5;28;01mimport\u001b[39;00m njit, prange\n\u001b[1;32m      9\u001b[0m \u001b[38;5;28;01mfrom\u001b[39;00m \u001b[38;5;21;01msklearn\u001b[39;00m\u001b[38;5;21;01m.\u001b[39;00m\u001b[38;5;21;01mbase\u001b[39;00m \u001b[38;5;28;01mimport\u001b[39;00m BaseEstimator\n\u001b[1;32m     10\u001b[0m \u001b[38;5;28;01mfrom\u001b[39;00m \u001b[38;5;21;01msklearn\u001b[39;00m\u001b[38;5;21;01m.\u001b[39;00m\u001b[38;5;21;01mutils\u001b[39;00m\u001b[38;5;21;01m.\u001b[39;00m\u001b[38;5;21;01mvalidation\u001b[39;00m \u001b[38;5;28;01mimport\u001b[39;00m check_array\n",
      "File \u001b[0;32m/home/ciafa/mnt_point_3/dasilva/venv/lib/python3.8/site-packages/numba/__init__.py:200\u001b[0m, in \u001b[0;36m<module>\u001b[0;34m\u001b[0m\n\u001b[1;32m    197\u001b[0m     \u001b[38;5;28;01mreturn\u001b[39;00m \u001b[38;5;28;01mFalse\u001b[39;00m\n\u001b[1;32m    199\u001b[0m _ensure_llvm()\n\u001b[0;32m--> 200\u001b[0m \u001b[43m_ensure_critical_deps\u001b[49m\u001b[43m(\u001b[49m\u001b[43m)\u001b[49m\n\u001b[1;32m    202\u001b[0m \u001b[38;5;66;03m# we know llvmlite is working as the above tests passed, import it now as SVML\u001b[39;00m\n\u001b[1;32m    203\u001b[0m \u001b[38;5;66;03m# needs to mutate runtime options (sets the `-vector-library`).\u001b[39;00m\n\u001b[1;32m    204\u001b[0m \u001b[38;5;28;01mimport\u001b[39;00m \u001b[38;5;21;01mllvmlite\u001b[39;00m\n",
      "File \u001b[0;32m/home/ciafa/mnt_point_3/dasilva/venv/lib/python3.8/site-packages/numba/__init__.py:140\u001b[0m, in \u001b[0;36m_ensure_critical_deps\u001b[0;34m()\u001b[0m\n\u001b[1;32m    138\u001b[0m     \u001b[38;5;28;01mraise\u001b[39;00m \u001b[38;5;167;01mImportError\u001b[39;00m(\u001b[38;5;124m\"\u001b[39m\u001b[38;5;124mNumba needs NumPy 1.18 or greater\u001b[39m\u001b[38;5;124m\"\u001b[39m)\n\u001b[1;32m    139\u001b[0m \u001b[38;5;28;01melif\u001b[39;00m numpy_version \u001b[38;5;241m>\u001b[39m (\u001b[38;5;241m1\u001b[39m, \u001b[38;5;241m22\u001b[39m):\n\u001b[0;32m--> 140\u001b[0m     \u001b[38;5;28;01mraise\u001b[39;00m \u001b[38;5;167;01mImportError\u001b[39;00m(\u001b[38;5;124m\"\u001b[39m\u001b[38;5;124mNumba needs NumPy 1.22 or less\u001b[39m\u001b[38;5;124m\"\u001b[39m)\n\u001b[1;32m    142\u001b[0m \u001b[38;5;28;01mtry\u001b[39;00m:\n\u001b[1;32m    143\u001b[0m     \u001b[38;5;28;01mimport\u001b[39;00m \u001b[38;5;21;01mscipy\u001b[39;00m\n",
      "\u001b[0;31mImportError\u001b[0m: Numba needs NumPy 1.22 or less"
     ]
    }
   ],
   "source": [
    "from sdv.tabular import CTGAN\n"
   ]
  },
  {
   "cell_type": "code",
   "execution_count": null,
   "id": "546241f1-a728-4da2-a7ff-2a3146e52653",
   "metadata": {},
   "outputs": [],
   "source": []
  }
 ],
 "metadata": {
  "kernelspec": {
   "display_name": "Python 3 (ipykernel)",
   "language": "python",
   "name": "python3"
  },
  "language_info": {
   "codemirror_mode": {
    "name": "ipython",
    "version": 3
   },
   "file_extension": ".py",
   "mimetype": "text/x-python",
   "name": "python",
   "nbconvert_exporter": "python",
   "pygments_lexer": "ipython3",
   "version": "3.8.10"
  }
 },
 "nbformat": 4,
 "nbformat_minor": 5
}
