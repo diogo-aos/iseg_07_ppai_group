{
 "cells": [
  {
   "cell_type": "code",
   "execution_count": null,
   "id": "58db5288-67ac-48b0-81a5-33504b0b6353",
   "metadata": {},
   "outputs": [],
   "source": [
    "from sdv.tabular import CTGAN\n"
   ]
  },
  {
   "cell_type": "code",
   "execution_count": null,
   "id": "546241f1-a728-4da2-a7ff-2a3146e52653",
   "metadata": {},
   "outputs": [],
   "source": [
    "import sdv\n",
    "import pandas as pd"
   ]
  },
  {
   "cell_type": "code",
   "execution_count": null,
   "id": "37743f83-6d7f-4223-a9ac-b136ee518ace",
   "metadata": {},
   "outputs": [],
   "source": [
    "data = pd.read_csv('data/loan_defaults.csv')"
   ]
  },
  {
   "cell_type": "code",
   "execution_count": null,
   "id": "ac3c4559-bd56-479c-b461-fa628dc56431",
   "metadata": {},
   "outputs": [],
   "source": [
    "data.head()"
   ]
  },
  {
   "cell_type": "code",
   "execution_count": null,
   "id": "f90810fe-4008-4a80-be4e-ab57e5279644",
   "metadata": {},
   "outputs": [],
   "source": [
    "from sdv.constraints import Unique, Inequality, create_custom_constraint"
   ]
  },
  {
   "cell_type": "code",
   "execution_count": null,
   "id": "f481d16d-dde9-4f7a-be87-8c5d137cfe63",
   "metadata": {},
   "outputs": [],
   "source": [
    "# num dias a trabalhar > num dias vivo\n",
    "age_gt_age_when_joined_constraint = Inequality(\n",
    "    low_column_name='DAYS_BIRTH',\n",
    "    high_column_name='DAYS_EMPLOYED'\n",
    "    )"
   ]
  },
  {
   "cell_type": "code",
   "execution_count": null,
   "id": "ae6a4703-7943-4fe4-ada2-1fa878e3b263",
   "metadata": {},
   "outputs": [],
   "source": [
    "def no_children_working_is_valid(column_names, data, working_age_years):\n",
    "    # assumes column_names[0] has column of DAYS_BIRTH\n",
    "    # assumes column_names[1] has column of DAYS_EMPLOYED\n",
    "    days_birth = data[column_names[0]]\n",
    "    days_employed = data[column_names[1]]\n",
    "    \n",
    "    days_employed_working_age = -working_age_years * 365\n",
    "    \n",
    "    return (days_birth - days_employed) <  days_employed_working_age\n",
    "\n",
    "\n",
    "NoChildWorkerConstraint = create_custom_constraint(\n",
    "    is_valid_fn=no_children_working_is_valid\n",
    ")"
   ]
  },
  {
   "cell_type": "code",
   "execution_count": null,
   "id": "20fbe148-8dc8-4250-80ee-69b8bddafe9b",
   "metadata": {},
   "outputs": [],
   "source": [
    "def no_unemployed_work_phones_is_valid(column_names, data):\n",
    "    # assumes column_names[0] has column of DAYS_EMPLOYED\n",
    "    # assumes column_names[1] has column of FLAG_WORK_PHONE\n",
    "    unemployed = data[column_names[0]] > 0\n",
    "    flag_work_phone = data[column_names[1]] == 1\n",
    "    \n",
    "    return ~(unemployed & flag_work_phone)\n",
    "\n",
    "\n",
    "NoUmemployedWorkPhoneConstraint = create_custom_constraint(\n",
    "    is_valid_fn=no_unemployed_work_phones_is_valid\n",
    ")"
   ]
  },
  {
   "cell_type": "code",
   "execution_count": null,
   "id": "4f9bb7b4-b49b-4f7b-aca6-ae74718a3358",
   "metadata": {},
   "outputs": [],
   "source": [
    "def no_col1_gt_col2_not_match_is_valid(column_names, data, gt_val, match_val):\n",
    "    ''' this constraint makes sure that all rows that have \n",
    "            column 0 over gt_val AND\n",
    "            col 1 with a value different from match_val\n",
    "        don't exist\n",
    "    '''\n",
    "    col1_gt = data[column_names[0]] > gt_val\n",
    "    col2_match = data[column_names[1]] != match_val\n",
    "    \n",
    "    return ~(col1_gt & col2_match)\n",
    "\n",
    "\n",
    "NotColumn1GtColumn2NotMatchConstraint = create_custom_constraint(\n",
    "    is_valid_fn=no_col1_gt_col2_not_match_is_valid\n",
    ")"
   ]
  },
  {
   "cell_type": "code",
   "execution_count": null,
   "id": "838d3584-2a71-4075-8262-ac2bbec3180f",
   "metadata": {},
   "outputs": [],
   "source": [
    "def no_col1_gt_col2_match_is_valid(column_names, data, gt_val, match_val):\n",
    "    ''' this constraint makes sure that all rows that have \n",
    "            column 0 over gt_val AND\n",
    "            col 1 with a value equal to match_val\n",
    "        don't exist\n",
    "    '''\n",
    "    col1_gt = data[column_names[0]] > gt_val\n",
    "    col2_match = data[column_names[1]] == match_val\n",
    "    \n",
    "    return ~(col1_gt & col2_match)\n",
    "\n",
    "\n",
    "NotColumn1GtColumn2MatchConstraint = create_custom_constraint(\n",
    "    is_valid_fn=no_col1_gt_col2_match_is_valid\n",
    ")"
   ]
  },
  {
   "cell_type": "code",
   "execution_count": null,
   "id": "0cb5d026-aa02-43b0-abc3-ece1cd80be3c",
   "metadata": {},
   "outputs": [],
   "source": [
    "no_clients_worked_before_age_X = NoChildWorkerConstraint(column_names=['DAYS_BIRTH', 'DAYS_EMPLOYED'], working_age_years=16)\n",
    "positive_days_employed_dont_have_work_phones = NotColumn1GtColumn2MatchConstraint(column_names=['DAYS_EMPLOYED', 'FLAG_WORK_PHONE'], gt_val=0, match_val=1)\n",
    "positive_days_employed_are_pensioners = NotColumn1GtColumn2NotMatchConstraint(column_names=['DAYS_EMPLOYED', 'NAME_INCOME_TYPE'], gt_val=0, match_val='Pensioner')"
   ]
  },
  {
   "cell_type": "code",
   "execution_count": null,
   "id": "aa7f9b33-9110-452a-a0e9-9b999231793c",
   "metadata": {},
   "outputs": [],
   "source": [
    "constraints = [\n",
    "    age_gt_age_when_joined_constraint,\n",
    "    no_clients_worked_before_age_X,\n",
    "#    NoUmemployedWorkPhoneConstraint(column_names=['DAYS_EMPLOYED', 'FLAG_WORK_PHONE']),\n",
    "    positive_days_employed_dont_have_work_phones,\n",
    "    positive_days_employed_are_pensioners,\n",
    "]"
   ]
  },
  {
   "cell_type": "code",
   "execution_count": null,
   "id": "f7ab41e5-997b-4a9e-bd94-5a4a08649b8e",
   "metadata": {},
   "outputs": [],
   "source": [
    "model = CTGAN(primary_key='ID',\n",
    "             constraints=constraints)"
   ]
  },
  {
   "cell_type": "code",
   "execution_count": null,
   "id": "86bf7b18-d2d7-411a-89f7-11ca0153a778",
   "metadata": {},
   "outputs": [],
   "source": [
    "model.fit(data.iloc[:500])"
   ]
  },
  {
   "cell_type": "code",
   "execution_count": null,
   "id": "35f7ecf1-a46b-4561-b321-d87c86cc5ed9",
   "metadata": {},
   "outputs": [],
   "source": [
    "x = model.sample(1000)"
   ]
  },
  {
   "cell_type": "code",
   "execution_count": null,
   "id": "14de985c-87ea-43e8-94ca-04853f742783",
   "metadata": {},
   "outputs": [],
   "source": [
    "x.head()"
   ]
  }
 ],
 "metadata": {
  "kernelspec": {
   "display_name": "Python 3 (ipykernel)",
   "language": "python",
   "name": "python3"
  },
  "language_info": {
   "codemirror_mode": {
    "name": "ipython",
    "version": 3
   },
   "file_extension": ".py",
   "mimetype": "text/x-python",
   "name": "python",
   "nbconvert_exporter": "python",
   "pygments_lexer": "ipython3",
   "version": "3.8.10"
  }
 },
 "nbformat": 4,
 "nbformat_minor": 5
}
