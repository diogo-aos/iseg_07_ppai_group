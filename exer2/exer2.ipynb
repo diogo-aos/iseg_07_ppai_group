{
 "cells": [
  {
   "cell_type": "code",
   "execution_count": null,
   "id": "d7cd8267-1b81-4e28-99f9-35d0c0df8138",
   "metadata": {},
   "outputs": [],
   "source": [
    "import os.path\n",
    "import pandas as pd\n",
    "import numpy as np"
   ]
  },
  {
   "cell_type": "code",
   "execution_count": null,
   "id": "d0b4c848-ed2e-4905-b18a-f174efed3747",
   "metadata": {},
   "outputs": [],
   "source": [
    "folder = os.path.join('data')\n",
    "applications_fn = os.path.join(folder,'application_record.csv')\n",
    "records_fn = os.path.join(folder,'credit_record.csv')\n",
    "join_fn = os.path.join(folder, 'loan_defaults.csv')"
   ]
  },
  {
   "cell_type": "code",
   "execution_count": null,
   "id": "beffbc88-63dd-4c6e-b89f-3b8a371fb714",
   "metadata": {},
   "outputs": [],
   "source": [
    "df_a = pd.read_csv(applications_fn)\n",
    "df_r = pd.read_csv(records_fn)"
   ]
  },
  {
   "cell_type": "code",
   "execution_count": null,
   "id": "bb0e385a-7014-437b-b08c-d1f9b30b33d9",
   "metadata": {},
   "outputs": [],
   "source": [
    "df_a = df_a.set_index('ID')"
   ]
  },
  {
   "cell_type": "code",
   "execution_count": null,
   "id": "cf32471f-0dff-47c3-aa51-df93b3464a72",
   "metadata": {},
   "outputs": [],
   "source": [
    "print(f'''{df_a.index.unique().size} unique loan applications\n",
    "{np.unique(df_r[\"ID\"].values).size} different loans on the records table.''')"
   ]
  },
  {
   "cell_type": "code",
   "execution_count": null,
   "id": "64ed011e-17c8-430d-b924-7d3e6b79fcff",
   "metadata": {},
   "outputs": [],
   "source": [
    "df_r"
   ]
  },
  {
   "cell_type": "markdown",
   "id": "2ce96898-b991-41f8-acfa-bed2d2492221",
   "metadata": {},
   "source": [
    "# data prep"
   ]
  },
  {
   "cell_type": "markdown",
   "id": "785dbcd7-c1f9-49ae-87b7-69d1803cf7de",
   "metadata": {},
   "source": [
    "## join the 2 tables"
   ]
  },
  {
   "cell_type": "markdown",
   "id": "53616949-4b3d-478d-8d17-d98015811f4e",
   "metadata": {},
   "source": [
    "We need to compute which clients defaulted on their loans on the records table and join the result with the applications table."
   ]
  },
  {
   "cell_type": "code",
   "execution_count": null,
   "id": "5a8afb7d-8eed-4660-92f6-ca78c460efd4",
   "metadata": {},
   "outputs": [],
   "source": [
    "def has_missed_loan(df):\n",
    "    #print(df, type(df))\n",
    "    return df.map(lambda m: m in ('X', 'C')).all()"
   ]
  },
  {
   "cell_type": "code",
   "execution_count": null,
   "id": "7b13c208-b0ba-42dc-ad1f-f2ec86ef1160",
   "metadata": {},
   "outputs": [],
   "source": [
    "missed_loans = df_r.groupby(by='ID').agg(has_missed_loans=('STATUS', has_missed_loan))"
   ]
  },
  {
   "cell_type": "code",
   "execution_count": null,
   "id": "72ef80d9-d8a5-4a8f-94a2-f04e96748a92",
   "metadata": {},
   "outputs": [],
   "source": [
    "missed_loans"
   ]
  },
  {
   "cell_type": "code",
   "execution_count": null,
   "id": "53e07083-5292-498b-9089-cad3ecf2f8b9",
   "metadata": {},
   "outputs": [],
   "source": [
    "df = df_a.join(other = missed_loans, on='ID', how='inner')\n",
    "df.head()"
   ]
  },
  {
   "cell_type": "markdown",
   "id": "4bcb4d5c-474a-438c-91bb-51f6c1fce4a4",
   "metadata": {},
   "source": [
    "The intersection between the loans with records and the applications table reduced the dataset size to a fraction of the original"
   ]
  },
  {
   "cell_type": "code",
   "execution_count": null,
   "id": "158b41e2-4bc6-45b1-9b37-e44569b200e2",
   "metadata": {},
   "outputs": [],
   "source": [
    "print(f'We not have {df.shape[0]} applications from the original {df_a.shape[0]}')"
   ]
  },
  {
   "cell_type": "code",
   "execution_count": null,
   "id": "ad357289-3c73-48f6-b87e-5007ba68b707",
   "metadata": {},
   "outputs": [],
   "source": [
    "df.to_csv(join_fn)"
   ]
  }
 ],
 "metadata": {
  "kernelspec": {
   "display_name": "Python 3 (ipykernel)",
   "language": "python",
   "name": "python3"
  },
  "language_info": {
   "codemirror_mode": {
    "name": "ipython",
    "version": 3
   },
   "file_extension": ".py",
   "mimetype": "text/x-python",
   "name": "python",
   "nbconvert_exporter": "python",
   "pygments_lexer": "ipython3",
   "version": "3.8.10"
  }
 },
 "nbformat": 4,
 "nbformat_minor": 5
}
