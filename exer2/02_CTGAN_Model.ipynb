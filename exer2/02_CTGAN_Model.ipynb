{
 "cells": [
  {
   "cell_type": "markdown",
   "metadata": {},
   "source": [
    "<div class=\"alert alert-warning\">\n",
    "\n",
    "**Warning**\n",
    "\n",
    "In order to follow this guide you need to have `ctgan` installed on your\n",
    "system. If you have not done it yet, please install `ctgan` now by\n",
    "executing the command `pip install sdv` in a terminal.\n",
    "\n",
    "</div>"
   ]
  },
  {
   "cell_type": "code",
   "execution_count": null,
   "metadata": {},
   "outputs": [],
   "source": [
    "!pip install sdv"
   ]
  },
  {
   "cell_type": "code",
   "execution_count": null,
   "metadata": {},
   "outputs": [],
   "source": [
    "import warnings; warnings.simplefilter('ignore')"
   ]
  },
  {
   "cell_type": "markdown",
   "metadata": {},
   "source": [
    "CTGAN Model\n",
    "===========\n",
    "\n",
    "In this guide we will go through a series of steps that will let you\n",
    "discover functionalities of the `CTGAN` model, including how to:\n",
    "\n",
    "-   Create an instance of `CTGAN`.\n",
    "-   Fit the instance to your data.\n",
    "-   Generate synthetic versions of your data.\n",
    "-   Use `CTGAN` to anonymize PII information.\n",
    "-   Specify hyperparameters to improve the output quality.\n",
    "\n",
    "What is CTGAN?\n",
    "--------------\n",
    "\n",
    "The `sdv.tabular.CTGAN` model is based on the GAN-based Deep Learning\n",
    "data synthesizer which was presented at the NeurIPS 2020 conference by\n",
    "the paper titled [Modeling Tabular data using Conditional\n",
    "GAN](https://arxiv.org/abs/1907.00503).\n",
    "\n",
    "Let\\'s now discover how to learn a dataset and later on generate\n",
    "synthetic data with the same format and statistical properties by using\n",
    "the `CTGAN` class from SDV.\n",
    "\n",
    "Quick Usage\n",
    "-----------\n",
    "\n",
    "We will start by loading one of our demo datasets, the\n",
    "`student_placements`, which contains information about MBA students that\n",
    "applied for placements during the year 2020.\n"
   ]
  },
  {
   "cell_type": "code",
   "execution_count": null,
   "metadata": {
    "attributes": {
     "classes": [
      ""
     ],
     "id": ""
    }
   },
   "outputs": [],
   "source": [
    "from sdv.demo import load_tabular_demo\n",
    "\n",
    "data = load_tabular_demo('student_placements')\n",
    "data.head()"
   ]
  },
  {
   "cell_type": "markdown",
   "metadata": {},
   "source": [
    "As you can see, this table contains information about students which\n",
    "includes, among other things:\n",
    "\n",
    "-   Their id and gender\n",
    "-   Their grades and specializations\n",
    "-   Their work experience\n",
    "-   The salary that they were offered\n",
    "-   The duration and dates of their placement\n",
    "\n",
    "You will notice that there is data with the following characteristics:\n",
    "\n",
    "-   There are float, integer, boolean, categorical and datetime values.\n",
    "-   There are some variables that have missing data. In particular, all\n",
    "    the data related to the placement details is missing in the rows\n",
    "    where the student was not placed.\n",
    "\n",
    "Let us use `CTGAN` to learn this data and then sample synthetic data\n",
    "about new students to see how well the model captures the characteristics\n",
    "indicated above. In order to do this you will need to:\n",
    "\n",
    "-   Import the `sdv.tabular.CTGAN` class and create an instance of it.\n",
    "-   Call its `fit` method passing our table.\n",
    "-   Call its `sample` method indicating the number of synthetic rows\n",
    "    that you want to generate."
   ]
  },
  {
   "cell_type": "code",
   "execution_count": null,
   "metadata": {
    "attributes": {
     "classes": [
      ""
     ],
     "id": ""
    }
   },
   "outputs": [],
   "source": [
    "from sdv.tabular import CTGAN\n",
    "\n",
    "model = CTGAN()\n",
    "model.fit(data)"
   ]
  },
  {
   "cell_type": "markdown",
   "metadata": {},
   "source": [
    "<div class=\"alert alert-info\">\n",
    "\n",
    "**Note**\n",
    "\n",
    "Notice that the model `fitting` process took care of transforming the\n",
    "different fields using the appropriate [Reversible Data\n",
    "Transforms](http://github.com/sdv-dev/RDT) to ensure that the data has a\n",
    "format that the underlying CTGANSynthesizer class can handle.\n",
    "\n",
    "</div>\n",
    "\n",
    "### Generate synthetic data from the model\n",
    "\n",
    "Once the modeling has finished you are ready to generate new synthetic\n",
    "data by calling the `sample` method from your model passing the number\n",
    "of rows that we want to generate. The number of rows (``num_rows``)\n",
    "is a required parameter."
   ]
  },
  {
   "cell_type": "code",
   "execution_count": null,
   "metadata": {
    "attributes": {
     "classes": [
      ""
     ],
     "id": ""
    }
   },
   "outputs": [],
   "source": [
    "new_data = model.sample(num_rows=3000)"
   ]
  },
  {
   "cell_type": "markdown",
   "metadata": {},
   "source": [
    "This will return a table identical to the one which the model was fitted\n",
    "on, but filled with new data which resembles the original one."
   ]
  },
  {
   "cell_type": "code",
   "execution_count": null,
   "metadata": {
    "attributes": {
     "classes": [
      ""
     ],
     "id": ""
    }
   },
   "outputs": [],
   "source": [
    "new_data"
   ]
  },
  {
   "cell_type": "markdown",
   "metadata": {},
   "source": [
    "<div class=\"alert alert-info\">\n",
    "\n",
    "**Note**\n",
    "\n",
    "There are a number of other parameters in this method that you can use to\n",
    "optimize the process of generating synthetic data. Use ``output_file_path``\n",
    "to directly write results to a CSV file, ``batch_size`` to break up sampling\n",
    "into smaller pieces & track their progress and ``randomize_samples`` to\n",
    "determine whether to generate the same synthetic data every time.\n",
    "See the <a href=https://sdv.dev/SDV/api_reference/tabular/api/sdv.tabular.ctgan.CTGAN.sample>API Section</a> \n",
    "for more details.\n",
    "\n",
    "</div>\n",
    "\n",
    "### Save and Load the model\n",
    "\n",
    "In many scenarios it will be convenient to generate synthetic versions\n",
    "of your data directly in systems that do not have access to the original\n",
    "data source. For example, if you may want to generate testing data on\n",
    "the fly inside a testing environment that does not have access to your\n",
    "production database. In these scenarios, fitting the model with real\n",
    "data every time that you need to generate new data is feasible, so you\n",
    "will need to fit a model in your production environment, save the fitted\n",
    "model into a file, send this file to the testing environment and then\n",
    "load it there to be able to `sample` from it.\n",
    "\n",
    "Let\\'s see how this process works.\n",
    "\n",
    "#### Save and share the model\n",
    "\n",
    "Once you have fitted the model, all you need to do is call its `save`\n",
    "method passing the name of the file in which you want to save the model.\n",
    "Note that the extension of the filename is not relevant, but we will be\n",
    "using the `.pkl` extension to highlight that the serialization protocol\n",
    "used is [pickle](https://docs.python.org/3/library/pickle.html)."
   ]
  },
  {
   "cell_type": "code",
   "execution_count": null,
   "metadata": {
    "attributes": {
     "classes": [
      ""
     ],
     "id": ""
    }
   },
   "outputs": [],
   "source": [
    "model.save('my_model.pkl')"
   ]
  },
  {
   "cell_type": "markdown",
   "metadata": {},
   "source": [
    "This will have created a file called `my_model.pkl` in the same\n",
    "directory in which you are running SDV.\n",
    "\n",
    "<div class=\"alert alert-info\">\n",
    "\n",
    "**Important**\n",
    "\n",
    "If you inspect the generated file you will notice that its size is much\n",
    "smaller than the size of the data that you used to generate it. This is\n",
    "because the serialized model contains **no information about the\n",
    "original data**, other than the parameters it needs to generate\n",
    "synthetic versions of it. This means that you can safely share this\n",
    "`my_model.pkl` file without the risc of disclosing any of your real\n",
    "data!\n",
    "\n",
    "</div>\n",
    "\n",
    "#### Load the model and generate new data\n",
    "\n",
    "The file you just generated can be sent over to the system where the\n",
    "synthetic data will be generated. Once it is there, you can load it\n",
    "using the `CTGAN.load` method, and then you are ready to sample new data\n",
    "from the loaded instance:"
   ]
  },
  {
   "cell_type": "code",
   "execution_count": null,
   "metadata": {
    "attributes": {
     "classes": [
      ""
     ],
     "id": ""
    }
   },
   "outputs": [],
   "source": [
    "loaded = CTGAN.load('my_model.pkl')\n",
    "new_data = loaded.sample(num_rows=200)"
   ]
  },
  {
   "cell_type": "markdown",
   "metadata": {},
   "source": [
    "<div class=\"alert alert-warning\">\n",
    "\n",
    "**Warning**\n",
    "\n",
    "Notice that the system where the model is loaded needs to also have\n",
    "`sdv` and `ctgan` installed, otherwise it will not be able to load the\n",
    "model and use it.\n",
    "\n",
    "</div>\n",
    "\n",
    "### Specifying the Primary Key of the table\n",
    "\n",
    "One of the first things that you may have noticed when looking at the demo\n",
    "data is that there is a `student_id` column which acts as the primary\n",
    "key of the table, and which is supposed to have unique values. Indeed,\n",
    "if we look at the number of times that each value appears, we see that\n",
    "all of them appear at most once:"
   ]
  },
  {
   "cell_type": "code",
   "execution_count": null,
   "metadata": {
    "attributes": {
     "classes": [
      ""
     ],
     "id": ""
    }
   },
   "outputs": [],
   "source": [
    "data.student_id.value_counts().max()"
   ]
  },
  {
   "cell_type": "markdown",
   "metadata": {},
   "source": [
    "However, if we look at the synthetic data that we generated, we observe\n",
    "that there are some values that appear more than once:"
   ]
  },
  {
   "cell_type": "code",
   "execution_count": null,
   "metadata": {
    "attributes": {
     "classes": [
      ""
     ],
     "id": ""
    }
   },
   "outputs": [],
   "source": [
    "new_data[new_data.student_id == new_data.student_id.value_counts().index[0]]"
   ]
  },
  {
   "cell_type": "markdown",
   "metadata": {},
   "source": [
    "This happens because the model was not notified at any point about the\n",
    "fact that the `student_id` had to be unique, so when it generates new\n",
    "data it will provoke collisions sooner or later. In order to solve this,\n",
    "we can pass the argument `primary_key` to our model when we create it,\n",
    "indicating the name of the column that is the index of the table."
   ]
  },
  {
   "cell_type": "code",
   "execution_count": null,
   "metadata": {
    "attributes": {
     "classes": [
      ""
     ],
     "id": ""
    }
   },
   "outputs": [],
   "source": [
    "model = CTGAN(\n",
    "    primary_key='student_id'\n",
    ")\n",
    "model.fit(data)\n",
    "new_data = model.sample(2000)\n",
    "new_data.head()"
   ]
  },
  {
   "cell_type": "markdown",
   "metadata": {},
   "source": [
    "As a result, the model will learn that this column must be unique and\n",
    "generate a unique sequence of values for the column:"
   ]
  },
  {
   "cell_type": "code",
   "execution_count": null,
   "metadata": {
    "attributes": {
     "classes": [
      ""
     ],
     "id": ""
    }
   },
   "outputs": [],
   "source": [
    "new_data.student_id.value_counts().max()"
   ]
  },
  {
   "cell_type": "markdown",
   "metadata": {},
   "source": [
    "### Anonymizing Personally Identifiable Information (PII)\n",
    "\n",
    "There will be many cases where the data will contain Personally\n",
    "Identifiable Information which we cannot disclose. In these cases, we\n",
    "will want our Tabular Models to replace the information within these\n",
    "fields with fake, simulated data that looks similar to the real one but\n",
    "does not contain any of the original values.\n",
    "\n",
    "Let\\'s load a new dataset that contains a PII field, the\n",
    "`student_placements_pii` demo, and try to generate synthetic versions of\n",
    "it that do not contain any of the PII fields.\n",
    "\n",
    "<div class=\"alert alert-info\">\n",
    "\n",
    "**Note**\n",
    "\n",
    "The `student_placements_pii` dataset is a modified version of the\n",
    "`student_placements` dataset with one new field, `address`, which\n",
    "contains PII information about the students. Notice that this additional\n",
    "`address` field has been simulated and does not correspond to data from\n",
    "the real users.\n",
    "\n",
    "</div>"
   ]
  },
  {
   "cell_type": "code",
   "execution_count": null,
   "metadata": {
    "attributes": {
     "classes": [
      ""
     ],
     "id": ""
    }
   },
   "outputs": [],
   "source": [
    "data_pii = load_tabular_demo('student_placements_pii')\n",
    "data_pii.head()"
   ]
  },
  {
   "cell_type": "markdown",
   "metadata": {},
   "source": [
    "If we use our tabular model on this new data we will see how the\n",
    "synthetic data that it generates discloses the addresses from the real\n",
    "students:"
   ]
  },
  {
   "cell_type": "code",
   "execution_count": null,
   "metadata": {
    "attributes": {
     "classes": [
      ""
     ],
     "id": ""
    }
   },
   "outputs": [],
   "source": [
    "model = CTGAN(\n",
    "    primary_key='student_id',\n",
    ")\n",
    "model.fit(data_pii)\n",
    "new_data_pii = model.sample(200)\n",
    "new_data_pii.head()"
   ]
  },
  {
   "cell_type": "markdown",
   "metadata": {},
   "source": [
    "More specifically, we can see how all the addresses that have been\n",
    "generated actually come from the original dataset:"
   ]
  },
  {
   "cell_type": "code",
   "execution_count": null,
   "metadata": {
    "attributes": {
     "classes": [
      ""
     ],
     "id": ""
    }
   },
   "outputs": [],
   "source": [
    "new_data_pii.address.isin(data_pii.address).sum()"
   ]
  },
  {
   "cell_type": "markdown",
   "metadata": {},
   "source": [
    "In order to solve this, we can pass an additional argument\n",
    "`anonymize_fields` to our model when we create the instance. This\n",
    "`anonymize_fields` argument will need to be a dictionary that contains:\n",
    "\n",
    "-   The name of the field that we want to anonymize.\n",
    "-   The category of the field that we want to use when we generate fake\n",
    "    values for it.\n",
    "\n",
    "The list complete list of possible categories can be seen in the [Faker\n",
    "Providers](https://faker.readthedocs.io/en/master/providers.html) page,\n",
    "and it contains a huge list of concepts such as:\n",
    "\n",
    "-   name\n",
    "-   address\n",
    "-   country\n",
    "-   city\n",
    "-   ssn\n",
    "-   credit_card_number\n",
    "-   credit_card_expire\n",
    "-   credit_card_security_code\n",
    "-   email\n",
    "-   telephone\n",
    "-   \\...\n",
    "\n",
    "In this case, since the field is an address, we will pass a\n",
    "dictionary indicating the category `address`"
   ]
  },
  {
   "cell_type": "code",
   "execution_count": null,
   "metadata": {
    "attributes": {
     "classes": [
      ""
     ],
     "id": ""
    }
   },
   "outputs": [],
   "source": [
    "model = CTGAN(\n",
    "    primary_key='student_id',\n",
    "    anonymize_fields={\n",
    "        'address': 'address'\n",
    "    }\n",
    ")\n",
    "model.fit(data_pii)"
   ]
  },
  {
   "cell_type": "markdown",
   "metadata": {},
   "source": [
    "As a result, we can see how the real `address` values have been replaced\n",
    "by other fake addresses:"
   ]
  },
  {
   "cell_type": "code",
   "execution_count": null,
   "metadata": {
    "attributes": {
     "classes": [
      ""
     ],
     "id": ""
    }
   },
   "outputs": [],
   "source": [
    "new_data_pii = model.sample(200)\n",
    "new_data_pii.head()"
   ]
  },
  {
   "cell_type": "code",
   "execution_count": null,
   "metadata": {},
   "outputs": [],
   "source": [
    "new_data = model.sample(len(data))"
   ]
  },
  {
   "cell_type": "markdown",
   "metadata": {},
   "source": [
    "Which means that none of the original addresses can be found in the\n",
    "sampled data:"
   ]
  },
  {
   "cell_type": "code",
   "execution_count": null,
   "metadata": {
    "attributes": {
     "classes": [
      ""
     ],
     "id": ""
    }
   },
   "outputs": [],
   "source": [
    "data_pii.address.isin(new_data_pii.address).sum()"
   ]
  },
  {
   "cell_type": "markdown",
   "metadata": {},
   "source": [
    "Advanced Usage\n",
    "--------------\n",
    "\n",
    "Now that we have discovered the basics, let\\'s go over a few more\n",
    "advanced usage examples and see the different arguments that we can pass\n",
    "to our `CTGAN` Model in order to customize it to our needs.\n",
    "\n",
    "### How to modify the CTGAN Hyperparameters?\n",
    "\n",
    "A part from the common Tabular Model arguments, `CTGAN` has a number of\n",
    "additional hyperparameters that control its learning behavior and can\n",
    "impact on the performance of the model, both in terms of quality of the\n",
    "generated data and computational time.\n",
    "\n",
    "-   `epochs` and `batch_size`: these arguments control the number of\n",
    "    iterations that the model will perform to optimize its parameters,\n",
    "    as well as the number of samples used in each step. Its default\n",
    "    values are `300` and `500` respectively, and `batch_size` needs to\n",
    "    always be a value which is multiple of `10`. These hyperparameters\n",
    "    have a very direct effect in time the training process lasts but\n",
    "    also on the performance of the data, so for new datasets, you might\n",
    "    want to start by setting a low value on both of them to see how long\n",
    "    the training process takes on your data and later on increase the\n",
    "    number to acceptable values in order to improve the performance.\n",
    "-   `log_frequency`: Whether to use log frequency of categorical levels\n",
    "    in conditional sampling. It defaults to `True`. This argument affects\n",
    "    how the model processes the frequencies of the categorical values that\n",
    "    are used to condition the rest of the values. In some cases, changing\n",
    "    it to `False` could lead to better performance.\n",
    "-   `embedding_dim` (int): Size of the random sample passed to the\n",
    "    Generator. Defaults to 128.\n",
    "-   `generator_dim` (tuple or list of ints): Size of the output samples for\n",
    "    each one of the Residuals. A Resiudal Layer will be created for each\n",
    "    one of the values provided. Defaults to (256, 256).\n",
    "-   `discriminator_dim` (tuple or list of ints): Size of the output samples for\n",
    "    each one of the Discriminator Layers. A Linear Layer will be created\n",
    "    for each one of the values provided. Defaults to (256, 256).\n",
    "-   `generator_lr` (float): Learning rate for the generator. Defaults to 2e-4.\n",
    "-   `generator_decay` (float): Generator weight decay for the Adam Optimizer.\n",
    "    Defaults to 1e-6.\n",
    "-   `discriminator_lr` (float): Learning rate for the discriminator.\n",
    "    Defaults to 2e-4.\n",
    "-   `discriminator_decay` (float): Discriminator weight decay for the Adam\n",
    "    Optimizer. Defaults to 1e-6.\n",
    "-   `discriminator_steps` (int): Number of discriminator updates to do for\n",
    "    each generator update. From the WGAN paper: https://arxiv.org/abs/1701.07875.\n",
    "    WGAN paper default is 5. Default used is 1 to match original CTGAN\n",
    "    implementation.\n",
    "-   `verbose`: Whether to print fit progress on stdout. Defaults to\n",
    "    `False`.\n",
    "\n",
    "<div class=\"alert alert-warning\">\n",
    "\n",
    "**Warning**\n",
    "\n",
    "Notice that the value that you set on the `batch_size` argument must\n",
    "always be a multiple of `10`!\n",
    "\n",
    "</div>\n",
    "\n",
    "As an example, we will try to fit the `CTGAN` model slightly increasing\n",
    "the number of epochs, reducing the `batch_size`, adding one additional\n",
    "layer to the models involved and using a smaller wright decay.\n",
    "\n",
    "Before we start, we will evaluate the quality of the previously\n",
    "generated data using the `sdv.evaluation.evaluate` function"
   ]
  },
  {
   "cell_type": "code",
   "execution_count": null,
   "metadata": {
    "attributes": {
     "classes": [
      ""
     ],
     "id": ""
    }
   },
   "outputs": [],
   "source": [
    "from sdv.evaluation import evaluate\n",
    "\n",
    "evaluate(new_data, data)"
   ]
  },
  {
   "cell_type": "markdown",
   "metadata": {},
   "source": [
    "Afterwards, we create a new instance of the `CTGAN` model with the\n",
    "hyperparameter values that we want to use"
   ]
  },
  {
   "cell_type": "code",
   "execution_count": null,
   "metadata": {
    "attributes": {
     "classes": [
      ""
     ],
     "id": ""
    }
   },
   "outputs": [],
   "source": [
    "model = CTGAN(\n",
    "    primary_key='student_id',\n",
    "    epochs=1000,\n",
    "    batch_size=100,\n",
    "    generator_dim=(256, 256, 256,256,256),\n",
    "    discriminator_dim=(256, 256, 256,256,256),\n",
    "    anonymize_fields={\n",
    "        'address': 'address'\n",
    "    }\n",
    ")"
   ]
  },
  {
   "cell_type": "markdown",
   "metadata": {},
   "source": [
    "And fit to our data."
   ]
  },
  {
   "cell_type": "code",
   "execution_count": null,
   "metadata": {
    "attributes": {
     "classes": [
      ""
     ],
     "id": ""
    }
   },
   "outputs": [],
   "source": [
    "model.fit(data)"
   ]
  },
  {
   "cell_type": "markdown",
   "metadata": {},
   "source": [
    "Finally, we are ready to generate new data and evaluate the results."
   ]
  },
  {
   "cell_type": "code",
   "execution_count": null,
   "metadata": {
    "attributes": {
     "classes": [
      ""
     ],
     "id": ""
    }
   },
   "outputs": [],
   "source": [
    "new_data = model.sample(len(data))\n",
    "evaluate(new_data, data)"
   ]
  },
  {
   "cell_type": "markdown",
   "metadata": {},
   "source": [
    "As we can see, in this case these modifications changed the obtained\n",
    "results slightly, but they did neither introduce dramatic changes in the\n",
    "performance.\n"
   ]
  },
  {
   "cell_type": "markdown",
   "metadata": {},
   "source": [
    "### Conditional Sampling\n",
    "\n",
    "As the name implies, conditional sampling allows us to sample from a conditional distribution using the `CTGAN` model, which means we can generate only values that satisfy certain conditions. These conditional values can be passed to the `sample_conditions` method as a list of `sdv.sampling.Condition` objects or to the `sample_remaining_columns` method as a dataframe. \n",
    "\n",
    "When specifying a `sdv.sampling.Condition` object, we can pass in the desired conditions as a dictionary, as well as specify the number of desired rows for that condition."
   ]
  },
  {
   "cell_type": "code",
   "execution_count": null,
   "metadata": {},
   "outputs": [],
   "source": [
    "from sdv.sampling import Condition\n",
    "\n",
    "condition = Condition({\n",
    "    'gender': 'M'\n",
    "}, num_rows=5)\n",
    "\n",
    "model.sample_conditions(conditions=[condition])"
   ]
  },
  {
   "cell_type": "markdown",
   "metadata": {},
   "source": [
    "It's also possible to condition on multiple columns, such as `gender = M, 'experience_years': 0`."
   ]
  },
  {
   "cell_type": "code",
   "execution_count": null,
   "metadata": {},
   "outputs": [],
   "source": [
    "condition = Condition({\n",
    "    'gender': 'M',\n",
    "    'experience_years': 0\n",
    "}, num_rows=5)\n",
    "\n",
    "model.sample_conditions(conditions=[condition])"
   ]
  },
  {
   "cell_type": "markdown",
   "metadata": {},
   "source": [
    "In the `sample_remaining_columns` method, `conditions` is passed as a dataframe. In that case, the model will generate one sample for each row of the dataframe, sorted in the same order. Since the model already knows how many samples to generate, passing it as a parameter is unnecessary. For example, if we want to generate three samples where `gender = M` and three samples with `gender = F`,  all of them with `work_experience = True`, we can do the following: "
   ]
  },
  {
   "cell_type": "code",
   "execution_count": null,
   "metadata": {},
   "outputs": [],
   "source": [
    "import pandas as pd \n",
    "\n",
    "conditions = pd.DataFrame({\n",
    "    'gender': ['M', 'M', 'M', 'F', 'F', 'F'],\n",
    "    'work_experience': [True, True, True, True, True, True]\n",
    "})\n",
    "model.sample_remaining_columns(conditions)"
   ]
  },
  {
   "cell_type": "markdown",
   "metadata": {},
   "source": [
    "`CTGAN` also supports conditioning on continuous values, as long as the values are within the range of seen numbers. For example, if all the values of the dataset are within 0 and 1, `CTGAN` will not be able to set this value to 1000."
   ]
  },
  {
   "cell_type": "code",
   "execution_count": null,
   "metadata": {},
   "outputs": [],
   "source": [
    "condition = Condition({\n",
    "    'degree_perc': 70.0\n",
    "}, num_rows=5)\n",
    "\n",
    "model.sample_conditions(conditions=[condition])"
   ]
  },
  {
   "cell_type": "markdown",
   "metadata": {},
   "source": [
    "<div class=\"alert alert-info\">\n",
    "\n",
    "**Note**\n",
    "\n",
    "Currently, conditional sampling works through a rejection sampling process, where\n",
    "rows are sampled repeatedly until one that satisfies the conditions is found.\n",
    "In case you are not able to sample enough valid rows, update the related parameters:\n",
    "increasing ``max_tries`` or increasing ``batch_size_per_try``.\n",
    "More information about these paramters can be found in the\n",
    "<a href=https://sdv.dev/SDV/api_reference/tabular/api/sdv.tabular.ctgan.CTGAN.sample_conditions.html> API section</a>.\n",
    "\n",
    "If you have many conditions that cannot easily be satisified, consider switching\n",
    "to the <a href=https://sdv.dev/SDV/user_guides/single_table/gaussian_copula.html>GaussianCopula model</a>, which is able to handle conditional\n",
    "sampling more efficiently.\n",
    "\n",
    "\n",
    "</div>"
   ]
  },
  {
   "cell_type": "markdown",
   "metadata": {},
   "source": [
    "### How do I specify constraints?\n",
    "\n",
    "If you look closely at the data you may notice that some properties were\n",
    "not completely captured by the model. For example, you may have seen\n",
    "that sometimes the model produces an `experience_years` number greater\n",
    "than `0` while also indicating that `work_experience` is `False`. These\n",
    "types of properties are what we call `Constraints` and can also be\n",
    "handled using `SDV`. For further details about them please visit the\n",
    "[Handling Constraints](04_Handling_Constraints.ipynb) guide.\n",
    "\n",
    "### Can I evaluate the Synthetic Data?\n",
    "\n",
    "A very common question when someone starts using **SDV** to generate\n",
    "synthetic data is: *\\\"How good is the data that I just generated?\\\"*\n",
    "\n",
    "In order to answer this question, **SDV** has a collection of metrics\n",
    "and tools that allow you to compare the *real* that you provided and the\n",
    "*synthetic* data that you generated using **SDV** or any other tool.\n",
    "\n",
    "You can read more about this in the [Evaluating Synthetic Data Generators](\n",
    "05_Evaluating_Synthetic_Data_Generators.ipynb) guide."
   ]
  },
  {
   "cell_type": "code",
   "execution_count": null,
   "metadata": {},
   "outputs": [],
   "source": []
  }
 ],
 "metadata": {
  "instance_type": "ml.g4dn.xlarge",
  "kernelspec": {
   "display_name": "Python 3 (ipykernel)",
   "language": "python",
   "name": "python3"
  },
  "language_info": {
   "codemirror_mode": {
    "name": "ipython",
    "version": 3
   },
   "file_extension": ".py",
   "mimetype": "text/x-python",
   "name": "python",
   "nbconvert_exporter": "python",
   "pygments_lexer": "ipython3",
   "version": "3.8.10"
  }
 },
 "nbformat": 4,
 "nbformat_minor": 4
}
